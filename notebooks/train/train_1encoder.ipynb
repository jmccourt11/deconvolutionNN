{
 "cells": [
  {
   "cell_type": "code",
   "execution_count": 1,
   "metadata": {},
   "outputs": [],
   "source": [
    "import os\n",
    "import numpy as np\n",
    "\n",
    "import torch, torchvision\n",
    "import torch.nn as nn\n",
    "import torch.optim as optim\n",
    "import torch.nn.functional as F\n",
    "#from torchsummary import summary\n",
    "from torch.utils.data import TensorDataset, DataLoader\n",
    "\n",
    "from pathlib import Path\n",
    "\n",
    "from sklearn.utils import shuffle\n",
    "from sklearn.model_selection import train_test_split\n",
    "\n",
    "import matplotlib.pyplot as plt\n",
    "from matplotlib import colors\n",
    "\n",
    "plt.rcParams[\"image.cmap\"] = \"jet\""
   ]
  },
  {
   "cell_type": "code",
   "execution_count": null,
   "metadata": {},
   "outputs": [],
   "source": [
    "#save model pth\n",
    "save=True\n",
    "\n",
    "# Setting path\n",
    "path = Path(\"Y:/ptychosaxs\")  # /net/micdata/data2/12IDC mounted windows drive\n",
    "# Join paths\n",
    "MODEL_SAVE_PATH = path / 'trained_model/' # Automatically adds the correct separator\n",
    "if (not os.path.isdir(MODEL_SAVE_PATH)):\n",
    "    os.mkdir(MODEL_SAVE_PATH)\n",
    "print(MODEL_SAVE_PATH)"
   ]
  },
  {
   "cell_type": "code",
   "execution_count": 7,
   "metadata": {},
   "outputs": [],
   "source": [
    "# Load preprocessed data\n",
    "num=13\n",
    "numDPs=10\n",
    "amp_conv_red = np.load(os.path.abspath(os.path.join(os.getcwd(), f'../../data/processed/preprocessed_dir{num}_numDPs{numDPs}.npz')))['amp_conv_red']\n",
    "amp_ideal_red = np.load(os.path.abspath(os.path.join(os.getcwd(), f'../../data/processed/preprocessed_dir{num}_numDPs{numDPs}.npz')))['amp_ideal_red']\n",
    "amp_probe_red = np.load(os.path.abspath(os.path.join(os.getcwd(), f'../../data/processed/preprocessed_dir{num}_numDPs{numDPs}.npz')))['amp_probe_red']"
   ]
  },
  {
   "cell_type": "code",
   "execution_count": 9,
   "metadata": {},
   "outputs": [
    {
     "name": "stdout",
     "output_type": "stream",
     "text": [
      "8 2 1\n"
     ]
    }
   ],
   "source": [
    "# Set the number of patterns in test, train or validation set\n",
    "NTEST = amp_conv_red.shape[0]//4\n",
    "NTRAIN = amp_conv_red.shape[0]-NTEST\n",
    "NVALID = NTEST//2 # NTRAIN//\n",
    "\n",
    "print(NTRAIN,NTEST,NVALID)"
   ]
  },
  {
   "cell_type": "code",
   "execution_count": 8,
   "metadata": {},
   "outputs": [
    {
     "name": "stdout",
     "output_type": "stream",
     "text": [
      "GPUs: 0 Batch size: 0 Learning rate: 0.0\n",
      "256 256\n"
     ]
    }
   ],
   "source": [
    "EPOCHS = 512\n",
    "NGPUS = torch.cuda.device_count()\n",
    "BATCH_SIZE = NGPUS*16\n",
    "LR = NGPUS * 1e-3\n",
    "print(\"GPUs:\", NGPUS, \"Batch size:\", BATCH_SIZE, \"Learning rate:\", LR)\n",
    "\n",
    "no_probe=True\n",
    "H,W=amp_ideal_red[0].shape[0],amp_ideal_red[0].shape[1]\n",
    "print(H,W)"
   ]
  },
  {
   "cell_type": "code",
   "execution_count": 10,
   "metadata": {},
   "outputs": [
    {
     "name": "stdout",
     "output_type": "stream",
     "text": [
      "torch.Size([8, 1, 256, 256]) torch.Size([8, 1, 256, 256]) torch.Size([8, 1, 256, 256])\n",
      "7 2 1 2\n"
     ]
    },
    {
     "ename": "ValueError",
     "evalue": "batch_size should be a positive integer value, but got batch_size=0",
     "output_type": "error",
     "traceback": [
      "\u001b[1;31m---------------------------------------------------------------------------\u001b[0m",
      "\u001b[1;31mValueError\u001b[0m                                Traceback (most recent call last)",
      "Cell \u001b[1;32mIn[10], line 59\u001b[0m\n\u001b[0;32m     55\u001b[0m \u001b[38;5;28mprint\u001b[39m(\u001b[38;5;28mlen\u001b[39m(train_data2),\u001b[38;5;28mlen\u001b[39m(train_data2[\u001b[38;5;241m0\u001b[39m]),\u001b[38;5;28mlen\u001b[39m(valid_data),\u001b[38;5;28mlen\u001b[39m(test_data))\n\u001b[0;32m     58\u001b[0m \u001b[38;5;66;03m#download and load training data\u001b[39;00m\n\u001b[1;32m---> 59\u001b[0m trainloader \u001b[38;5;241m=\u001b[39m \u001b[43mDataLoader\u001b[49m\u001b[43m(\u001b[49m\u001b[43mtrain_data2\u001b[49m\u001b[43m,\u001b[49m\u001b[43m \u001b[49m\u001b[43mbatch_size\u001b[49m\u001b[38;5;241;43m=\u001b[39;49m\u001b[43mBATCH_SIZE\u001b[49m\u001b[43m,\u001b[49m\u001b[43m \u001b[49m\u001b[43mshuffle\u001b[49m\u001b[38;5;241;43m=\u001b[39;49m\u001b[38;5;28;43;01mTrue\u001b[39;49;00m\u001b[43m,\u001b[49m\u001b[43m \u001b[49m\u001b[43mnum_workers\u001b[49m\u001b[38;5;241;43m=\u001b[39;49m\u001b[38;5;241;43m4\u001b[39;49m\u001b[43m)\u001b[49m\n\u001b[0;32m     61\u001b[0m validloader \u001b[38;5;241m=\u001b[39m DataLoader(valid_data, batch_size\u001b[38;5;241m=\u001b[39mBATCH_SIZE, shuffle\u001b[38;5;241m=\u001b[39m\u001b[38;5;28;01mTrue\u001b[39;00m, num_workers\u001b[38;5;241m=\u001b[39m\u001b[38;5;241m4\u001b[39m)\n\u001b[0;32m     63\u001b[0m \u001b[38;5;66;03m#same for test\u001b[39;00m\n\u001b[0;32m     64\u001b[0m \u001b[38;5;66;03m#download and load training data\u001b[39;00m\n",
      "File \u001b[1;32mc:\\Users\\b304014\\AppData\\Local\\anaconda3\\envs\\ptychosaxsNN\\Lib\\site-packages\\torch\\utils\\data\\dataloader.py:382\u001b[0m, in \u001b[0;36mDataLoader.__init__\u001b[1;34m(self, dataset, batch_size, shuffle, sampler, batch_sampler, num_workers, collate_fn, pin_memory, drop_last, timeout, worker_init_fn, multiprocessing_context, generator, prefetch_factor, persistent_workers, pin_memory_device)\u001b[0m\n\u001b[0;32m    378\u001b[0m             sampler \u001b[38;5;241m=\u001b[39m SequentialSampler(dataset)  \u001b[38;5;66;03m# type: ignore[arg-type]\u001b[39;00m\n\u001b[0;32m    380\u001b[0m \u001b[38;5;28;01mif\u001b[39;00m batch_size \u001b[38;5;129;01mis\u001b[39;00m \u001b[38;5;129;01mnot\u001b[39;00m \u001b[38;5;28;01mNone\u001b[39;00m \u001b[38;5;129;01mand\u001b[39;00m batch_sampler \u001b[38;5;129;01mis\u001b[39;00m \u001b[38;5;28;01mNone\u001b[39;00m:\n\u001b[0;32m    381\u001b[0m     \u001b[38;5;66;03m# auto_collation without custom batch_sampler\u001b[39;00m\n\u001b[1;32m--> 382\u001b[0m     batch_sampler \u001b[38;5;241m=\u001b[39m \u001b[43mBatchSampler\u001b[49m\u001b[43m(\u001b[49m\u001b[43msampler\u001b[49m\u001b[43m,\u001b[49m\u001b[43m \u001b[49m\u001b[43mbatch_size\u001b[49m\u001b[43m,\u001b[49m\u001b[43m \u001b[49m\u001b[43mdrop_last\u001b[49m\u001b[43m)\u001b[49m\n\u001b[0;32m    384\u001b[0m \u001b[38;5;28mself\u001b[39m\u001b[38;5;241m.\u001b[39mbatch_size \u001b[38;5;241m=\u001b[39m batch_size\n\u001b[0;32m    385\u001b[0m \u001b[38;5;28mself\u001b[39m\u001b[38;5;241m.\u001b[39mdrop_last \u001b[38;5;241m=\u001b[39m drop_last\n",
      "File \u001b[1;32mc:\\Users\\b304014\\AppData\\Local\\anaconda3\\envs\\ptychosaxsNN\\Lib\\site-packages\\torch\\utils\\data\\sampler.py:323\u001b[0m, in \u001b[0;36mBatchSampler.__init__\u001b[1;34m(self, sampler, batch_size, drop_last)\u001b[0m\n\u001b[0;32m    309\u001b[0m \u001b[38;5;28;01mdef\u001b[39;00m \u001b[38;5;21m__init__\u001b[39m(\n\u001b[0;32m    310\u001b[0m     \u001b[38;5;28mself\u001b[39m,\n\u001b[0;32m    311\u001b[0m     sampler: Union[Sampler[\u001b[38;5;28mint\u001b[39m], Iterable[\u001b[38;5;28mint\u001b[39m]],\n\u001b[1;32m   (...)\u001b[0m\n\u001b[0;32m    316\u001b[0m     \u001b[38;5;66;03m# is one way for an object to be an iterable, we don't do an `isinstance`\u001b[39;00m\n\u001b[0;32m    317\u001b[0m     \u001b[38;5;66;03m# check here.\u001b[39;00m\n\u001b[0;32m    318\u001b[0m     \u001b[38;5;28;01mif\u001b[39;00m (\n\u001b[0;32m    319\u001b[0m         \u001b[38;5;129;01mnot\u001b[39;00m \u001b[38;5;28misinstance\u001b[39m(batch_size, \u001b[38;5;28mint\u001b[39m)\n\u001b[0;32m    320\u001b[0m         \u001b[38;5;129;01mor\u001b[39;00m \u001b[38;5;28misinstance\u001b[39m(batch_size, \u001b[38;5;28mbool\u001b[39m)\n\u001b[0;32m    321\u001b[0m         \u001b[38;5;129;01mor\u001b[39;00m batch_size \u001b[38;5;241m<\u001b[39m\u001b[38;5;241m=\u001b[39m \u001b[38;5;241m0\u001b[39m\n\u001b[0;32m    322\u001b[0m     ):\n\u001b[1;32m--> 323\u001b[0m         \u001b[38;5;28;01mraise\u001b[39;00m \u001b[38;5;167;01mValueError\u001b[39;00m(\n\u001b[0;32m    324\u001b[0m             \u001b[38;5;124mf\u001b[39m\u001b[38;5;124m\"\u001b[39m\u001b[38;5;124mbatch_size should be a positive integer value, but got batch_size=\u001b[39m\u001b[38;5;132;01m{\u001b[39;00mbatch_size\u001b[38;5;132;01m}\u001b[39;00m\u001b[38;5;124m\"\u001b[39m\n\u001b[0;32m    325\u001b[0m         )\n\u001b[0;32m    326\u001b[0m     \u001b[38;5;28;01mif\u001b[39;00m \u001b[38;5;129;01mnot\u001b[39;00m \u001b[38;5;28misinstance\u001b[39m(drop_last, \u001b[38;5;28mbool\u001b[39m):\n\u001b[0;32m    327\u001b[0m         \u001b[38;5;28;01mraise\u001b[39;00m \u001b[38;5;167;01mValueError\u001b[39;00m(\n\u001b[0;32m    328\u001b[0m             \u001b[38;5;124mf\u001b[39m\u001b[38;5;124m\"\u001b[39m\u001b[38;5;124mdrop_last should be a boolean value, but got drop_last=\u001b[39m\u001b[38;5;132;01m{\u001b[39;00mdrop_last\u001b[38;5;132;01m}\u001b[39;00m\u001b[38;5;124m\"\u001b[39m\n\u001b[0;32m    329\u001b[0m         )\n",
      "\u001b[1;31mValueError\u001b[0m: batch_size should be a positive integer value, but got batch_size=0"
     ]
    }
   ],
   "source": [
    "#separate data and convert to tensors and shuffle\n",
    "no_probe=True\n",
    "\n",
    "tst_start = amp_conv_red.shape[0]-NTEST\n",
    "\n",
    "X_train = amp_conv_red[:NTRAIN].reshape(-1,H,W)[:,np.newaxis,:,:]\n",
    "X_test = amp_conv_red[tst_start:].reshape(-1,H,W)[:,np.newaxis,:,:]\n",
    "\n",
    "Xp_train = amp_probe_red[:NTRAIN].reshape(-1,H,W)[:,np.newaxis,:,:]\n",
    "Xp_test = amp_probe_red[tst_start:].reshape(-1,H,W)[:,np.newaxis,:,:]\n",
    "\n",
    "Y_I_train = amp_ideal_red[:NTRAIN].reshape(-1,H,W)[:,np.newaxis,:,:]\n",
    "Y_I_test = amp_ideal_red[tst_start:].reshape(-1,H,W)[:,np.newaxis,:,:]\n",
    "\n",
    "ntrain=X_train.shape[0]\n",
    "ntest=X_test.shape[0]\n",
    "\n",
    "X_train, Xp_train, Y_I_train = shuffle(X_train, Xp_train, Y_I_train, random_state=0)\n",
    "\n",
    "#Training data\n",
    "X_train_tensor = torch.Tensor(X_train)\n",
    "Xp_train_tensor = torch.Tensor(Xp_train) \n",
    "Y_I_train_tensor = torch.Tensor(Y_I_train) \n",
    "\n",
    "#Test data\n",
    "X_test_tensor = torch.Tensor(X_test)\n",
    "Xp_test_tensor = torch.Tensor(Xp_test) \n",
    "Y_I_test_tensor = torch.Tensor(Y_I_test) \n",
    "\n",
    "print(X_train_tensor.shape,Xp_train_tensor.shape, Y_I_train_tensor.shape)\n",
    "\n",
    "\n",
    "# #combine into two channels\n",
    "# X_combined_train_tensor=torch.cat([X_train_tensor, Xp_train_tensor], dim=1)\n",
    "# X_combined_test_tensor=torch.cat([X_test_tensor, Xp_test_tensor], dim=1)\n",
    "# # print(X_combined_train_tensor.shape)\n",
    "\n",
    "\n",
    "# train_data = TensorDataset(X_combined_train_tensor,Y_I_train_tensor)\n",
    "# test_data = TensorDataset(X_combined_test_tensor)\n",
    "\n",
    "\n",
    "if no_probe:\n",
    "    train_data = TensorDataset(X_train_tensor,Y_I_train_tensor)#Xp_train_tensor,Y_I_train_tensor)\n",
    "    test_data = TensorDataset(X_test_tensor,Xp_test_tensor)\n",
    "else:\n",
    "    train_data = TensorDataset(X_train_tensor,Xp_train_tensor,Y_I_train_tensor)\n",
    "    test_data = TensorDataset(X_test_tensor,Xp_test_tensor)\n",
    "\n",
    "\n",
    "#N_TRAIN = X_combined_train_tensor.shape[0]\n",
    "N_TRAIN = X_train_tensor.shape[0]\n",
    "\n",
    "train_data2, valid_data = torch.utils.data.random_split(train_data,[N_TRAIN-NVALID,NVALID])\n",
    "print(len(train_data2),len(train_data2[0]),len(valid_data),len(test_data))\n",
    "\n",
    "\n",
    "#download and load training data\n",
    "trainloader = DataLoader(train_data2, batch_size=BATCH_SIZE, shuffle=True, num_workers=4)\n",
    "\n",
    "validloader = DataLoader(valid_data, batch_size=BATCH_SIZE, shuffle=True, num_workers=4)\n",
    "\n",
    "#same for test\n",
    "#download and load training data\n",
    "testloader = DataLoader(test_data, batch_size=BATCH_SIZE, shuffle=False, num_workers=4)"
   ]
  },
  {
   "cell_type": "code",
   "execution_count": null,
   "metadata": {},
   "outputs": [],
   "source": []
  }
 ],
 "metadata": {
  "kernelspec": {
   "display_name": "ptychosaxsNN",
   "language": "python",
   "name": "python3"
  },
  "language_info": {
   "codemirror_mode": {
    "name": "ipython",
    "version": 3
   },
   "file_extension": ".py",
   "mimetype": "text/x-python",
   "name": "python",
   "nbconvert_exporter": "python",
   "pygments_lexer": "ipython3",
   "version": "3.11.11"
  }
 },
 "nbformat": 4,
 "nbformat_minor": 2
}
