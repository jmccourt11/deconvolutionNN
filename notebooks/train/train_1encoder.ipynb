{
 "cells": [
  {
   "cell_type": "code",
   "execution_count": 1,
   "metadata": {},
   "outputs": [],
   "source": [
    "import os\n",
    "import numpy as np\n",
    "\n",
    "import torch, torchvision\n",
    "import torch.nn as nn\n",
    "import torch.optim as optim\n",
    "import torch.nn.functional as F\n",
    "#from torchsummary import summary\n",
    "from torch.utils.data import TensorDataset, DataLoader\n",
    "\n",
    "from sklearn.utils import shuffle\n",
    "from sklearn.model_selection import train_test_split"
   ]
  },
  {
   "cell_type": "code",
   "execution_count": 7,
   "metadata": {},
   "outputs": [],
   "source": [
    "# Load preprocessed data\n",
    "num=13\n",
    "numDPs=10\n",
    "amp_conv_red = np.load(os.path.abspath(os.path.join(os.getcwd(), f'../../data/processed/preprocessed_dir{num}_numDPs{numDPs}.npz')))['amp_conv_red']\n",
    "amp_ideal_red = np.load(os.path.abspath(os.path.join(os.getcwd(), f'../../data/processed/preprocessed_dir{num}_numDPs{numDPs}.npz')))['amp_ideal_red']\n",
    "amp_probe_red = np.load(os.path.abspath(os.path.join(os.getcwd(), f'../../data/processed/preprocessed_dir{num}_numDPs{numDPs}.npz')))['amp_probe_red']"
   ]
  },
  {
   "cell_type": "code",
   "execution_count": 9,
   "metadata": {},
   "outputs": [
    {
     "name": "stdout",
     "output_type": "stream",
     "text": [
      "8 2 1\n"
     ]
    }
   ],
   "source": [
    "# Set the number of patterns in test, train or validation set\n",
    "NTEST = amp_conv_red.shape[0]//4\n",
    "NTRAIN = amp_conv_red.shape[0]-NTEST\n",
    "NVALID = NTEST//2 # NTRAIN//\n",
    "\n",
    "print(NTRAIN,NTEST,NVALID)"
   ]
  },
  {
   "cell_type": "code",
   "execution_count": 8,
   "metadata": {},
   "outputs": [
    {
     "name": "stdout",
     "output_type": "stream",
     "text": [
      "GPUs: 0 Batch size: 0 Learning rate: 0.0\n",
      "256 256\n"
     ]
    }
   ],
   "source": [
    "EPOCHS = 512\n",
    "NGPUS = torch.cuda.device_count()\n",
    "BATCH_SIZE = NGPUS*16\n",
    "LR = NGPUS * 1e-3\n",
    "print(\"GPUs:\", NGPUS, \"Batch size:\", BATCH_SIZE, \"Learning rate:\", LR)\n",
    "\n",
    "no_probe=True\n",
    "H,W=amp_ideal_red[0].shape[0],amp_ideal_red[0].shape[1]\n",
    "print(H,W)"
   ]
  },
  {
   "cell_type": "code",
   "execution_count": null,
   "metadata": {},
   "outputs": [],
   "source": [
    "#separate data and convert to tensors and shuffle\n",
    "no_probe=True\n",
    "\n",
    "tst_start = amp_conv_red.shape[0]-NTEST\n",
    "\n",
    "X_train = amp_conv_red[:NTRAIN].reshape(-1,H,W)[:,np.newaxis,:,:]\n",
    "X_test = amp_conv_red[tst_start:].reshape(-1,H,W)[:,np.newaxis,:,:]\n",
    "\n",
    "Xp_train = amp_probe_red[:NTRAIN].reshape(-1,H,W)[:,np.newaxis,:,:]\n",
    "Xp_test = amp_probe_red[tst_start:].reshape(-1,H,W)[:,np.newaxis,:,:]\n",
    "\n",
    "Y_I_train = amp_ideal_red[:NTRAIN].reshape(-1,H,W)[:,np.newaxis,:,:]\n",
    "Y_I_test = amp_ideal_red[tst_start:].reshape(-1,H,W)[:,np.newaxis,:,:]\n",
    "\n",
    "ntrain=X_train.shape[0]\n",
    "ntest=X_test.shape[0]\n",
    "\n",
    "X_train, Xp_train, Y_I_train = shuffle(X_train, Xp_train, Y_I_train, random_state=0)\n",
    "\n",
    "#Training data\n",
    "X_train_tensor = torch.Tensor(X_train)\n",
    "Xp_train_tensor = torch.Tensor(Xp_train) \n",
    "Y_I_train_tensor = torch.Tensor(Y_I_train) \n",
    "\n",
    "#Test data\n",
    "X_test_tensor = torch.Tensor(X_test)\n",
    "Xp_test_tensor = torch.Tensor(Xp_test) \n",
    "Y_I_test_tensor = torch.Tensor(Y_I_test) \n",
    "\n",
    "print(X_train_tensor.shape,Xp_train_tensor.shape, Y_I_train_tensor.shape)\n",
    "\n",
    "\n",
    "# #combine into two channels\n",
    "# X_combined_train_tensor=torch.cat([X_train_tensor, Xp_train_tensor], dim=1)\n",
    "# X_combined_test_tensor=torch.cat([X_test_tensor, Xp_test_tensor], dim=1)\n",
    "# # print(X_combined_train_tensor.shape)\n",
    "\n",
    "\n",
    "# train_data = TensorDataset(X_combined_train_tensor,Y_I_train_tensor)\n",
    "# test_data = TensorDataset(X_combined_test_tensor)\n",
    "\n",
    "\n",
    "if no_probe:\n",
    "    train_data = TensorDataset(X_train_tensor,Y_I_train_tensor)#Xp_train_tensor,Y_I_train_tensor)\n",
    "    test_data = TensorDataset(X_test_tensor,Xp_test_tensor)\n",
    "else:\n",
    "    train_data = TensorDataset(X_train_tensor,Xp_train_tensor,Y_I_train_tensor)\n",
    "    test_data = TensorDataset(X_test_tensor,Xp_test_tensor)\n",
    "\n",
    "\n",
    "#N_TRAIN = X_combined_train_tensor.shape[0]\n",
    "N_TRAIN = X_train_tensor.shape[0]\n",
    "\n",
    "train_data2, valid_data = torch.utils.data.random_split(train_data,[N_TRAIN-NVALID,NVALID])\n",
    "print(len(train_data2),len(train_data2[0]),len(valid_data),len(test_data))\n",
    "\n",
    "\n",
    "#download and load training data\n",
    "trainloader = DataLoader(train_data2, batch_size=BATCH_SIZE, shuffle=True, num_workers=4)\n",
    "\n",
    "validloader = DataLoader(valid_data, batch_size=BATCH_SIZE, shuffle=True, num_workers=4)\n",
    "\n",
    "#same for test\n",
    "#download and load training data\n",
    "testloader = DataLoader(test_data, batch_size=BATCH_SIZE, shuffle=False, num_workers=4)"
   ]
  }
 ],
 "metadata": {
  "kernelspec": {
   "display_name": "ptychosaxsNN",
   "language": "python",
   "name": "python3"
  },
  "language_info": {
   "codemirror_mode": {
    "name": "ipython",
    "version": 3
   },
   "file_extension": ".py",
   "mimetype": "text/x-python",
   "name": "python",
   "nbconvert_exporter": "python",
   "pygments_lexer": "ipython3",
   "version": "3.11.11"
  }
 },
 "nbformat": 4,
 "nbformat_minor": 2
}
